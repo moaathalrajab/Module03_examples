{
  "cells": [
    {
      "cell_type": "markdown",
      "metadata": {
        "id": "4VzBaLd57hIk"
      },
      "source": [
        "# CSC467\n",
        "## Module 03 Segmentation\n",
        "\n",
        "K-means\n"
      ]
    },
    {
      "cell_type": "code",
      "execution_count": null,
      "metadata": {
        "id": "vP5VvSXp7hIl"
      },
      "outputs": [],
      "source": [
        "import cv2\n",
        "import numpy as np\n",
        "from skimage import io as io_url\n",
        "from matplotlib import pyplot as plt\n",
        "\n",
        "\n",
        "# Load an image\n",
        "frame = io_url.imread('https://raw.githubusercontent.com/moaathalrajab/Module03_examples/refs/heads/main/veggy.png')\n",
        "\n",
        "image = cv2.cvtColor(frame, cv2.COLOR_BGR2RGB)\n",
        "# Reshape image into a 2D array of pixels\n",
        "pixels = image.reshape((-1, 3))\n",
        "pixels = np.float32(pixels)\n",
        "\n",
        "# Define criteria and apply K-Means\n",
        "K = 5  # Number of clusters\n",
        "criteria = (cv2.TERM_CRITERIA_EPS + cv2.TERM_CRITERIA_MAX_ITER, 100, 0.2)\n",
        "_, labels, centers = cv2.kmeans(pixels, K, None, criteria, 10, cv2.KMEANS_RANDOM_CENTERS)\n",
        "\n",
        "# Convert centers to uint8 and reshape image\n",
        "centers = np.uint8(centers)\n",
        "segmented_image = centers[labels.flatten()].reshape(image.shape)\n",
        "\n",
        "# Show the segmented image\n",
        "plt.imshow(segmented_image)"
      ]
    },
    {
      "cell_type": "markdown",
      "source": [
        "Here’s how to apply Mean Shift segmentation to an image using OpenCV."
      ],
      "metadata": {
        "id": "U4yB6c1J_LBh"
      }
    },
    {
      "cell_type": "code",
      "source": [
        "import cv2\n",
        "import numpy as np\n",
        "from skimage import io as io_url\n",
        "from matplotlib import pyplot as plt\n",
        "\n",
        "\n",
        "# Load an image\n",
        "frame = io_url.imread('https://raw.githubusercontent.com/moaathalrajab/Module03_examples/refs/heads/main/veggy.png')\n",
        "\n",
        "image = cv2.cvtColor(frame, cv2.COLOR_BGR2RGB)\n",
        "\n",
        "\n",
        "image_lab = cv2.cvtColor(image, cv2.COLOR_BGR2LAB)\n",
        "\n",
        "# Apply Mean Shift\n",
        "segmented_image = cv2.pyrMeanShiftFiltering(image_lab, sp=20, sr=40)\n",
        "\n",
        "# Convert back to BGR for display\n",
        "segmented_image = cv2.cvtColor(segmented_image, cv2.COLOR_LAB2BGR)\n",
        "\n",
        "# Show results\n",
        "# \"Original Image\"\n",
        "#plt.imshow(image)\n",
        "#\"Mean Shift Segmentation\"\n",
        "plt.imshow(segmented_image)\n"
      ],
      "metadata": {
        "collapsed": true,
        "id": "dgz1gNLK91ju"
      },
      "execution_count": null,
      "outputs": []
    },
    {
      "cell_type": "markdown",
      "source": [
        "\tcv2.pyrMeanShiftFiltering(image, sp, sr)\n",
        "\t•\tsp=20: Spatial window (affects smoothing).\n",
        "\t•\tsr=40: Color window (affects color merging).\n",
        "\t•\tConverts the image to LAB color space to better separate colors.\n",
        "\t•\tThe result is a smooth, clustered image with similar colors merged."
      ],
      "metadata": {
        "id": "3r6e54AD_Z_Y"
      }
    },
    {
      "cell_type": "markdown",
      "source": [
        "Graph Cut"
      ],
      "metadata": {
        "id": "p25TZnp4BPWy"
      }
    },
    {
      "cell_type": "code",
      "source": [
        "import cv2\n",
        "import numpy as np\n",
        "from skimage import io as io_url\n",
        "from matplotlib import pyplot as plt\n",
        "\n",
        "\n",
        "# Load an image\n",
        "frame = io_url.imread('https://raw.githubusercontent.com/moaathalrajab/Module03_examples/refs/heads/main/veggy.png')\n",
        "\n",
        "image = cv2.cvtColor(frame, cv2.COLOR_BGR2RGB)\n",
        "\n",
        "mask = np.zeros(image.shape[:2], np.uint8)\n",
        "\n",
        "# Define background and foreground models (initialized to zero)\n",
        "bgd_model = np.zeros((1, 65), np.float64)\n",
        "fgd_model = np.zeros((1, 65), np.float64)\n",
        "\n",
        "# Define a rectangle (x, y, width, height) for initial segmentation\n",
        "rect = (50, 50, image.shape[1] - 100, image.shape[0] - 100)\n",
        "\n",
        "# Apply GrabCut algorithm\n",
        "cv2.grabCut(image, mask, rect, bgd_model, fgd_model, 5, cv2.GC_INIT_WITH_RECT)\n",
        "\n",
        "# Modify the mask to extract foreground\n",
        "mask2 = np.where((mask == 2) | (mask == 0), 0, 1).astype(\"uint8\")\n",
        "segmented_image = image * mask2[:, :, np.newaxis]\n",
        "\n",
        "# Display results\n",
        "plt.imshow(segmented_image)\n"
      ],
      "metadata": {
        "id": "bAa2LGJ6BRHr"
      },
      "execution_count": null,
      "outputs": []
    }
  ],
  "metadata": {
    "kernelspec": {
      "display_name": "Python 3 (ipykernel)",
      "language": "python",
      "name": "python3"
    },
    "language_info": {
      "codemirror_mode": {
        "name": "ipython",
        "version": 3
      },
      "file_extension": ".py",
      "mimetype": "text/x-python",
      "name": "python",
      "nbconvert_exporter": "python",
      "pygments_lexer": "ipython3",
      "version": "3.12.1"
    },
    "colab": {
      "provenance": []
    }
  },
  "nbformat": 4,
  "nbformat_minor": 0
}